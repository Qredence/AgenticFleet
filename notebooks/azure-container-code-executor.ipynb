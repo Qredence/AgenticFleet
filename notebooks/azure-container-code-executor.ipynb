{
  "cells": [
    {
      "cell_type": "markdown",
      "metadata": {},
      "source": [
        "# ACA Dynamic Sessions Code Executor\n",
        "\n",
        "This guide will explain the Azure Container Apps dynamic sessions in Azure Container Apps and show you how to use the Azure Container Code Executor class.\n",
        "\n",
        "The [Azure Container Apps dynamic sessions](https://learn.microsoft.com/en-us/azure/container-apps/sessions) is a component in the Azure Container Apps service. The environment is hosted on remote Azure instances and will not execute any code locally. The interpreter is capable of executing python code in a jupyter environment with a pre-installed base of commonly used packages. [Custom environments](https://learn.microsoft.com/en-us/azure/container-apps/sessions-custom-container) can be created by users for their applications. Files can additionally be [uploaded to, or downloaded from](https://learn.microsoft.com/en-us/azure/container-apps/sessions-code-interpreter#upload-a-file-to-a-session) each session.\n",
        "\n",
        "The code interpreter can run multiple sessions of code, each of which are delineated by a session identifier string.\n",
        "\n",
        "## Create a Container Apps Session Pool\n",
        "\n",
        "In your Azure portal, create a new `Container App Session Pool` resource with the pool type set to `Python code interpreter` and note the `Pool management endpoint`. The format for the endpoint should be something like `https://{region}.dynamicsessions.io/subscriptions/{subscription_id}/resourceGroups/{resource_group_name}/sessionPools/{session_pool_name}`.\n",
        "\n",
        "Alternatively, you can use the [Azure CLI to create a session pool.](https://learn.microsoft.com/en-us/azure/container-apps/sessions-code-interpreter#create-a-session-pool-with-azure-cli)\n",
        "\n",
        "## ACADynamicSessionsCodeExecutor\n",
        "\n",
        "The {py:class}`~autogen_ext.code_executors.azure.ACADynamicSessionsCodeExecutor` class is a python code executor that creates and executes arbitrary python code on a default Serverless code interpreter session. Its interface is as follows\n",
        "\n",
        "### Initialization\n",
        "\n",
        "First, you will need to find or create a credentialing object that implements the {py:class}`~autogen_ext.code_executors.azure.TokenProvider` interface. This is any object that implements the following function\n",
        "```python\n",
        "def get_token(\n",
        "    self, *scopes: str, claims: Optional[str] = None, tenant_id: Optional[str] = None, **kwargs: Any\n",
        ") -> azure.core.credentials.AccessToken\n",
        "```\n",
        "An example of such an object is the [azure.identity.DefaultAzureCredential](https://learn.microsoft.com/en-us/python/api/azure-identity/azure.identity.defaultazurecredential?view=azure-python) class.\n",
        "\n",
        "Lets start by installing that"
      ]
    },
    {
      "cell_type": "code",
      "execution_count": 1,
      "metadata": {},
      "outputs": [
        {
          "name": "stdout",
          "output_type": "stream",
          "text": [
            "/Volumes/Samsung-SSD-T7/QredenceBeta/AgenticFleet-Alpha/Agentic-Fleet/AgenticFleet0.4.X/AgenticFleet/.venv/bin/python: No module named pip\n",
            "Note: you may need to restart the kernel to use updated packages.\n"
          ]
        }
      ],
      "source": [
        "%pip install azure.identity"
      ]
    },
    {
      "cell_type": "markdown",
      "metadata": {},
      "source": [
        "Next, lets import all the necessary modules and classes for our code"
      ]
    },
    {
      "cell_type": "code",
      "execution_count": 2,
      "metadata": {},
      "outputs": [],
      "source": [
        "import os\n",
        "import tempfile\n",
        "\n",
        "from anyio import open_file\n",
        "from autogen_core import CancellationToken\n",
        "from autogen_core.code_executor import CodeBlock\n",
        "from autogen_ext.code_executors.azure import ACADynamicSessionsCodeExecutor\n",
        "from azure.identity import DefaultAzureCredential"
      ]
    },
    {
      "cell_type": "markdown",
      "metadata": {},
      "source": [
        "Now, we create our Azure code executor and run some test code along with verification that it ran correctly. We'll create the executor with a temporary working directory to ensure a clean environment as we show how to use each feature"
      ]
    },
    {
      "cell_type": "code",
      "execution_count": 4,
      "metadata": {},
      "outputs": [
        {
          "ename": "ValueError",
          "evalue": "client_id should be the id of a Microsoft Entra application",
          "output_type": "error",
          "traceback": [
            "\u001b[0;31m---------------------------------------------------------------------------\u001b[0m",
            "\u001b[0;31mValueError\u001b[0m                                Traceback (most recent call last)",
            "Cell \u001b[0;32mIn[4], line 6\u001b[0m\n\u001b[1;32m      2\u001b[0m POOL_MANAGEMENT_ENDPOINT \u001b[38;5;241m=\u001b[39m \u001b[38;5;124m\"\u001b[39m\u001b[38;5;124mPOOL_MANAGEMENT_ENDPOINT\u001b[39m\u001b[38;5;124m\"\u001b[39m\n\u001b[1;32m      4\u001b[0m \u001b[38;5;28;01mwith\u001b[39;00m tempfile\u001b[38;5;241m.\u001b[39mTemporaryDirectory() \u001b[38;5;28;01mas\u001b[39;00m temp_dir:\n\u001b[1;32m      5\u001b[0m     executor \u001b[38;5;241m=\u001b[39m ACADynamicSessionsCodeExecutor(\n\u001b[0;32m----> 6\u001b[0m         pool_management_endpoint\u001b[38;5;241m=\u001b[39mPOOL_MANAGEMENT_ENDPOINT, credential\u001b[38;5;241m=\u001b[39m\u001b[43mDefaultAzureCredential\u001b[49m\u001b[43m(\u001b[49m\u001b[43m)\u001b[49m, work_dir\u001b[38;5;241m=\u001b[39mtemp_dir\n\u001b[1;32m      7\u001b[0m     )\n\u001b[1;32m      9\u001b[0m     code_blocks \u001b[38;5;241m=\u001b[39m [CodeBlock(code\u001b[38;5;241m=\u001b[39m\u001b[38;5;124m\"\u001b[39m\u001b[38;5;124mimport sys; print(\u001b[39m\u001b[38;5;124m'\u001b[39m\u001b[38;5;124mhello world!\u001b[39m\u001b[38;5;124m'\u001b[39m\u001b[38;5;124m)\u001b[39m\u001b[38;5;124m\"\u001b[39m, language\u001b[38;5;241m=\u001b[39m\u001b[38;5;124m\"\u001b[39m\u001b[38;5;124mpython\u001b[39m\u001b[38;5;124m\"\u001b[39m)]\n\u001b[1;32m     10\u001b[0m     code_result \u001b[38;5;241m=\u001b[39m \u001b[38;5;28;01mawait\u001b[39;00m executor\u001b[38;5;241m.\u001b[39mexecute_code_blocks(code_blocks, cancellation_token)\n",
            "File \u001b[0;32m/Volumes/Samsung-SSD-T7/QredenceBeta/AgenticFleet-Alpha/Agentic-Fleet/AgenticFleet0.4.X/AgenticFleet/.venv/lib/python3.12/site-packages/azure/identity/_credentials/default.py:148\u001b[0m, in \u001b[0;36mDefaultAzureCredential.__init__\u001b[0;34m(self, **kwargs)\u001b[0m\n\u001b[1;32m    146\u001b[0m within_dac\u001b[38;5;241m.\u001b[39mset(\u001b[38;5;28;01mTrue\u001b[39;00m)\n\u001b[1;32m    147\u001b[0m \u001b[38;5;28;01mif\u001b[39;00m \u001b[38;5;129;01mnot\u001b[39;00m exclude_environment_credential:\n\u001b[0;32m--> 148\u001b[0m     credentials\u001b[38;5;241m.\u001b[39mappend(\u001b[43mEnvironmentCredential\u001b[49m\u001b[43m(\u001b[49m\u001b[43mauthority\u001b[49m\u001b[38;5;241;43m=\u001b[39;49m\u001b[43mauthority\u001b[49m\u001b[43m,\u001b[49m\u001b[43m \u001b[49m\u001b[43m_within_dac\u001b[49m\u001b[38;5;241;43m=\u001b[39;49m\u001b[38;5;28;43;01mTrue\u001b[39;49;00m\u001b[43m,\u001b[49m\u001b[43m \u001b[49m\u001b[38;5;241;43m*\u001b[39;49m\u001b[38;5;241;43m*\u001b[39;49m\u001b[43mkwargs\u001b[49m\u001b[43m)\u001b[49m)\n\u001b[1;32m    149\u001b[0m \u001b[38;5;28;01mif\u001b[39;00m \u001b[38;5;129;01mnot\u001b[39;00m exclude_workload_identity_credential:\n\u001b[1;32m    150\u001b[0m     \u001b[38;5;28;01mif\u001b[39;00m \u001b[38;5;28mall\u001b[39m(os\u001b[38;5;241m.\u001b[39menviron\u001b[38;5;241m.\u001b[39mget(var) \u001b[38;5;28;01mfor\u001b[39;00m var \u001b[38;5;129;01min\u001b[39;00m EnvironmentVariables\u001b[38;5;241m.\u001b[39mWORKLOAD_IDENTITY_VARS):\n",
            "File \u001b[0;32m/Volumes/Samsung-SSD-T7/QredenceBeta/AgenticFleet-Alpha/Agentic-Fleet/AgenticFleet0.4.X/AgenticFleet/.venv/lib/python3.12/site-packages/azure/identity/_credentials/environment.py:73\u001b[0m, in \u001b[0;36mEnvironmentCredential.__init__\u001b[0;34m(self, **kwargs)\u001b[0m\n\u001b[1;32m     70\u001b[0m \u001b[38;5;28mself\u001b[39m\u001b[38;5;241m.\u001b[39m_credential: Optional[EnvironmentCredentialTypes] \u001b[38;5;241m=\u001b[39m \u001b[38;5;28;01mNone\u001b[39;00m\n\u001b[1;32m     72\u001b[0m \u001b[38;5;28;01mif\u001b[39;00m \u001b[38;5;28mall\u001b[39m(os\u001b[38;5;241m.\u001b[39menviron\u001b[38;5;241m.\u001b[39mget(v) \u001b[38;5;129;01mis\u001b[39;00m \u001b[38;5;129;01mnot\u001b[39;00m \u001b[38;5;28;01mNone\u001b[39;00m \u001b[38;5;28;01mfor\u001b[39;00m v \u001b[38;5;129;01min\u001b[39;00m EnvironmentVariables\u001b[38;5;241m.\u001b[39mCLIENT_SECRET_VARS):\n\u001b[0;32m---> 73\u001b[0m     \u001b[38;5;28mself\u001b[39m\u001b[38;5;241m.\u001b[39m_credential \u001b[38;5;241m=\u001b[39m \u001b[43mClientSecretCredential\u001b[49m\u001b[43m(\u001b[49m\n\u001b[1;32m     74\u001b[0m \u001b[43m        \u001b[49m\u001b[43mclient_id\u001b[49m\u001b[38;5;241;43m=\u001b[39;49m\u001b[43mos\u001b[49m\u001b[38;5;241;43m.\u001b[39;49m\u001b[43menviron\u001b[49m\u001b[43m[\u001b[49m\u001b[43mEnvironmentVariables\u001b[49m\u001b[38;5;241;43m.\u001b[39;49m\u001b[43mAZURE_CLIENT_ID\u001b[49m\u001b[43m]\u001b[49m\u001b[43m,\u001b[49m\n\u001b[1;32m     75\u001b[0m \u001b[43m        \u001b[49m\u001b[43mclient_secret\u001b[49m\u001b[38;5;241;43m=\u001b[39;49m\u001b[43mos\u001b[49m\u001b[38;5;241;43m.\u001b[39;49m\u001b[43menviron\u001b[49m\u001b[43m[\u001b[49m\u001b[43mEnvironmentVariables\u001b[49m\u001b[38;5;241;43m.\u001b[39;49m\u001b[43mAZURE_CLIENT_SECRET\u001b[49m\u001b[43m]\u001b[49m\u001b[43m,\u001b[49m\n\u001b[1;32m     76\u001b[0m \u001b[43m        \u001b[49m\u001b[43mtenant_id\u001b[49m\u001b[38;5;241;43m=\u001b[39;49m\u001b[43mos\u001b[49m\u001b[38;5;241;43m.\u001b[39;49m\u001b[43menviron\u001b[49m\u001b[43m[\u001b[49m\u001b[43mEnvironmentVariables\u001b[49m\u001b[38;5;241;43m.\u001b[39;49m\u001b[43mAZURE_TENANT_ID\u001b[49m\u001b[43m]\u001b[49m\u001b[43m,\u001b[49m\n\u001b[1;32m     77\u001b[0m \u001b[43m        \u001b[49m\u001b[38;5;241;43m*\u001b[39;49m\u001b[38;5;241;43m*\u001b[39;49m\u001b[43mkwargs\u001b[49m\n\u001b[1;32m     78\u001b[0m \u001b[43m    \u001b[49m\u001b[43m)\u001b[49m\n\u001b[1;32m     79\u001b[0m \u001b[38;5;28;01melif\u001b[39;00m \u001b[38;5;28mall\u001b[39m(os\u001b[38;5;241m.\u001b[39menviron\u001b[38;5;241m.\u001b[39mget(v) \u001b[38;5;129;01mis\u001b[39;00m \u001b[38;5;129;01mnot\u001b[39;00m \u001b[38;5;28;01mNone\u001b[39;00m \u001b[38;5;28;01mfor\u001b[39;00m v \u001b[38;5;129;01min\u001b[39;00m EnvironmentVariables\u001b[38;5;241m.\u001b[39mCERT_VARS):\n\u001b[1;32m     80\u001b[0m     \u001b[38;5;28mself\u001b[39m\u001b[38;5;241m.\u001b[39m_credential \u001b[38;5;241m=\u001b[39m CertificateCredential(\n\u001b[1;32m     81\u001b[0m         client_id\u001b[38;5;241m=\u001b[39mos\u001b[38;5;241m.\u001b[39menviron[EnvironmentVariables\u001b[38;5;241m.\u001b[39mAZURE_CLIENT_ID],\n\u001b[1;32m     82\u001b[0m         tenant_id\u001b[38;5;241m=\u001b[39mos\u001b[38;5;241m.\u001b[39menviron[EnvironmentVariables\u001b[38;5;241m.\u001b[39mAZURE_TENANT_ID],\n\u001b[0;32m   (...)\u001b[0m\n\u001b[1;32m     88\u001b[0m         \u001b[38;5;241m*\u001b[39m\u001b[38;5;241m*\u001b[39mkwargs\n\u001b[1;32m     89\u001b[0m     )\n",
            "File \u001b[0;32m/Volumes/Samsung-SSD-T7/QredenceBeta/AgenticFleet-Alpha/Agentic-Fleet/AgenticFleet0.4.X/AgenticFleet/.venv/lib/python3.12/site-packages/azure/identity/_credentials/client_secret.py:45\u001b[0m, in \u001b[0;36mClientSecretCredential.__init__\u001b[0;34m(self, tenant_id, client_id, client_secret, **kwargs)\u001b[0m\n\u001b[1;32m     43\u001b[0m \u001b[38;5;28;01mdef\u001b[39;00m\u001b[38;5;250m \u001b[39m\u001b[38;5;21m__init__\u001b[39m(\u001b[38;5;28mself\u001b[39m, tenant_id: \u001b[38;5;28mstr\u001b[39m, client_id: \u001b[38;5;28mstr\u001b[39m, client_secret: \u001b[38;5;28mstr\u001b[39m, \u001b[38;5;241m*\u001b[39m\u001b[38;5;241m*\u001b[39mkwargs: Any) \u001b[38;5;241m-\u001b[39m\u001b[38;5;241m>\u001b[39m \u001b[38;5;28;01mNone\u001b[39;00m:\n\u001b[1;32m     44\u001b[0m     \u001b[38;5;28;01mif\u001b[39;00m \u001b[38;5;129;01mnot\u001b[39;00m client_id:\n\u001b[0;32m---> 45\u001b[0m         \u001b[38;5;28;01mraise\u001b[39;00m \u001b[38;5;167;01mValueError\u001b[39;00m(\u001b[38;5;124m\"\u001b[39m\u001b[38;5;124mclient_id should be the id of a Microsoft Entra application\u001b[39m\u001b[38;5;124m\"\u001b[39m)\n\u001b[1;32m     46\u001b[0m     \u001b[38;5;28;01mif\u001b[39;00m \u001b[38;5;129;01mnot\u001b[39;00m client_secret:\n\u001b[1;32m     47\u001b[0m         \u001b[38;5;28;01mraise\u001b[39;00m \u001b[38;5;167;01mValueError\u001b[39;00m(\u001b[38;5;124m\"\u001b[39m\u001b[38;5;124msecret should be a Microsoft Entra application\u001b[39m\u001b[38;5;124m'\u001b[39m\u001b[38;5;124ms client secret\u001b[39m\u001b[38;5;124m\"\u001b[39m)\n",
            "\u001b[0;31mValueError\u001b[0m: client_id should be the id of a Microsoft Entra application"
          ]
        }
      ],
      "source": [
        "cancellation_token = CancellationToken()\n",
        "POOL_MANAGEMENT_ENDPOINT = \"POOL_MANAGEMENT_ENDPOINT\"\n",
        "\n",
        "with tempfile.TemporaryDirectory() as temp_dir:\n",
        "    executor = ACADynamicSessionsCodeExecutor(\n",
        "        pool_management_endpoint=POOL_MANAGEMENT_ENDPOINT, credential=DefaultAzureCredential(), work_dir=temp_dir\n",
        "    )\n",
        "\n",
        "    code_blocks = [CodeBlock(code=\"import sys; print('hello world!')\", language=\"python\")]\n",
        "    code_result = await executor.execute_code_blocks(code_blocks, cancellation_token)\n",
        "    assert code_result.exit_code == 0 and \"hello world!\" in code_result.output"
      ]
    },
    {
      "cell_type": "markdown",
      "metadata": {},
      "source": [
        "Next, lets try uploading some files and verifying their integrity. All files uploaded to the Serverless code interpreter is uploaded into the `/mnt/data` directory. All downloadable files must also be placed in the directory. By default, the current working directory for the code executor is set to `/mnt/data`."
      ]
    },
    {
      "cell_type": "code",
      "execution_count": null,
      "metadata": {},
      "outputs": [],
      "source": [
        "with tempfile.TemporaryDirectory() as temp_dir:\n",
        "    test_file_1 = \"test_upload_1.txt\"\n",
        "    test_file_1_contents = \"test1 contents\"\n",
        "    test_file_2 = \"test_upload_2.txt\"\n",
        "    test_file_2_contents = \"test2 contents\"\n",
        "\n",
        "    async with await open_file(os.path.join(temp_dir, test_file_1), \"w\") as f:  # type: ignore[syntax]\n",
        "        await f.write(test_file_1_contents)\n",
        "    async with await open_file(os.path.join(temp_dir, test_file_2), \"w\") as f:  # type: ignore[syntax]\n",
        "        await f.write(test_file_2_contents)\n",
        "\n",
        "    assert os.path.isfile(os.path.join(temp_dir, test_file_1))\n",
        "    assert os.path.isfile(os.path.join(temp_dir, test_file_2))\n",
        "\n",
        "    executor = ACADynamicSessionsCodeExecutor(\n",
        "        pool_management_endpoint=POOL_MANAGEMENT_ENDPOINT, credential=DefaultAzureCredential(), work_dir=temp_dir\n",
        "    )\n",
        "    await executor.upload_files([test_file_1, test_file_2], cancellation_token)\n",
        "\n",
        "    file_list = await executor.get_file_list(cancellation_token)\n",
        "    assert test_file_1 in file_list\n",
        "    assert test_file_2 in file_list\n",
        "\n",
        "    code_blocks = [\n",
        "        CodeBlock(\n",
        "            code=f\"\"\"\n",
        "with open(\"{test_file_1}\") as f:\n",
        "  print(f.read())\n",
        "with open(\"{test_file_2}\") as f:\n",
        "  print(f.read())\n",
        "\"\"\",\n",
        "            language=\"python\",\n",
        "        )\n",
        "    ]\n",
        "    code_result = await executor.execute_code_blocks(code_blocks, cancellation_token)\n",
        "    assert code_result.exit_code == 0\n",
        "    assert test_file_1_contents in code_result.output\n",
        "    assert test_file_2_contents in code_result.output"
      ]
    },
    {
      "cell_type": "markdown",
      "metadata": {},
      "source": [
        "Downloading files works in a similar way."
      ]
    },
    {
      "cell_type": "code",
      "execution_count": null,
      "metadata": {},
      "outputs": [],
      "source": [
        "with tempfile.TemporaryDirectory() as temp_dir:\n",
        "    test_file_1 = \"test_upload_1.txt\"\n",
        "    test_file_1_contents = \"test1 contents\"\n",
        "    test_file_2 = \"test_upload_2.txt\"\n",
        "    test_file_2_contents = \"test2 contents\"\n",
        "\n",
        "    assert not os.path.isfile(os.path.join(temp_dir, test_file_1))\n",
        "    assert not os.path.isfile(os.path.join(temp_dir, test_file_2))\n",
        "\n",
        "    executor = ACADynamicSessionsCodeExecutor(\n",
        "        pool_management_endpoint=POOL_MANAGEMENT_ENDPOINT, credential=DefaultAzureCredential(), work_dir=temp_dir\n",
        "    )\n",
        "\n",
        "    code_blocks = [\n",
        "        CodeBlock(\n",
        "            code=f\"\"\"\n",
        "with open(\"{test_file_1}\", \"w\") as f:\n",
        "  f.write(\"{test_file_1_contents}\")\n",
        "with open(\"{test_file_2}\", \"w\") as f:\n",
        "  f.write(\"{test_file_2_contents}\")\n",
        "\"\"\",\n",
        "            language=\"python\",\n",
        "        ),\n",
        "    ]\n",
        "    code_result = await executor.execute_code_blocks(code_blocks, cancellation_token)\n",
        "    assert code_result.exit_code == 0\n",
        "\n",
        "    file_list = await executor.get_file_list(cancellation_token)\n",
        "    assert test_file_1 in file_list\n",
        "    assert test_file_2 in file_list\n",
        "\n",
        "    await executor.download_files([test_file_1, test_file_2], cancellation_token)\n",
        "\n",
        "    assert os.path.isfile(os.path.join(temp_dir, test_file_1))\n",
        "    async with await open_file(os.path.join(temp_dir, test_file_1), \"r\") as f:  # type: ignore[syntax]\n",
        "        content = await f.read()\n",
        "        assert test_file_1_contents in content\n",
        "    assert os.path.isfile(os.path.join(temp_dir, test_file_2))\n",
        "    async with await open_file(os.path.join(temp_dir, test_file_2), \"r\") as f:  # type: ignore[syntax]\n",
        "        content = await f.read()\n",
        "        assert test_file_2_contents in content"
      ]
    },
    {
      "cell_type": "markdown",
      "metadata": {},
      "source": [
        "### New Sessions\n",
        "\n",
        "Every instance of the {py:class}`~autogen_ext.code_executors.azure.ACADynamicSessionsCodeExecutor` class will have a unique session ID. Every call to a particular code executor will be executed on the same session until the {py:meth}`~autogen_ext.code_executors.azure.ACADynamicSessionsCodeExecutor.restart` function is called on it. Previous sessions cannot be reused.\n",
        "\n",
        "Here we'll run some code on the code session, restart it, then verify that a new session has been opened."
      ]
    },
    {
      "cell_type": "code",
      "execution_count": null,
      "metadata": {},
      "outputs": [],
      "source": [
        "executor = ACADynamicSessionsCodeExecutor(\n",
        "    pool_management_endpoint=POOL_MANAGEMENT_ENDPOINT, credential=DefaultAzureCredential()\n",
        ")\n",
        "\n",
        "code_blocks = [CodeBlock(code=\"x = 'abcdefg'\", language=\"python\")]\n",
        "code_result = await executor.execute_code_blocks(code_blocks, cancellation_token)\n",
        "assert code_result.exit_code == 0\n",
        "\n",
        "code_blocks = [CodeBlock(code=\"print(x)\", language=\"python\")]\n",
        "code_result = await executor.execute_code_blocks(code_blocks, cancellation_token)\n",
        "assert code_result.exit_code == 0 and \"abcdefg\" in code_result.output\n",
        "\n",
        "await executor.restart()\n",
        "code_blocks = [CodeBlock(code=\"print(x)\", language=\"python\")]\n",
        "code_result = await executor.execute_code_blocks(code_blocks, cancellation_token)\n",
        "assert code_result.exit_code != 0 and \"NameError\" in code_result.output"
      ]
    },
    {
      "cell_type": "markdown",
      "metadata": {},
      "source": [
        "### Available Packages\n",
        "\n",
        "Each code execution instance is pre-installed with most of the commonly used packages. However, the list of available packages and versions are not available outside of the execution environment. The packages list on the environment can be retrieved by calling the {py:meth}`~autogen_ext.code_executors.azure.ACADynamicSessionsCodeExecutor.get_available_packages` function on the code executor."
      ]
    },
    {
      "cell_type": "code",
      "execution_count": null,
      "metadata": {},
      "outputs": [],
      "source": [
        "print(executor.get_available_packages(cancellation_token))"
      ]
    }
  ],
  "metadata": {
    "kernelspec": {
      "display_name": ".venv (3.12.6)",
      "language": "python",
      "name": "python3"
    },
    "language_info": {
      "codemirror_mode": {
        "name": "ipython",
        "version": 3
      },
      "file_extension": ".py",
      "mimetype": "text/x-python",
      "name": "python",
      "nbconvert_exporter": "python",
      "pygments_lexer": "ipython3",
      "version": "3.12.6"
    }
  },
  "nbformat": 4,
  "nbformat_minor": 2
}
